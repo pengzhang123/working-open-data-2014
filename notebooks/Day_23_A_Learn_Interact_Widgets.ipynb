{
 "metadata": {
  "name": "",
  "signature": "sha256:dba312a2b043aeb31a07be075d11e0ff9c3990b3189f9da1cb14261c98540759"
 },
 "nbformat": 3,
 "nbformat_minor": 0,
 "worksheets": [
  {
   "cells": [
    {
     "cell_type": "markdown",
     "metadata": {},
     "source": [
      "One of the main new features in IPython 2.0 is [interactive widgets](http://ipython.org/ipython-doc/2/whatsnew/version2.0.html#interactive-widgets).\n",
      "\n",
      "Some additional references:\n",
      "\n",
      "* [ipython/examples at master \u00b7 ipython/ipython](https://github.com/ipython/ipython/tree/master/examples), specifically [ipython/examples/Interactive Widgets at master \u00b7 ipython/ipython](https://github.com/ipython/ipython/tree/master/examples/Interactive%20Widgets)\n",
      "\n",
      "* Hear Fernando Perez talk about interact starting at [PyCon2014:  IPython in Depth]( https://www.youtube.com/watch?v=XFw1JVXKJss#1h36m43s).  Accompanying repo: [ipython/ipython-in-depth](https://github.com/ipython/ipython-in-depth)."
     ]
    },
    {
     "cell_type": "code",
     "collapsed": false,
     "input": [
      "# need to be running at least version 2 of IPython\n",
      "\n",
      "import IPython\n",
      "IPython.version_info"
     ],
     "language": "python",
     "metadata": {},
     "outputs": [
      {
       "metadata": {},
       "output_type": "pyout",
       "prompt_number": 4,
       "text": [
        "(2, 2, 0, '')"
       ]
      }
     ],
     "prompt_number": 4
    },
    {
     "cell_type": "code",
     "collapsed": false,
     "input": [
      "from IPython.display import display, Image, HTML, clear_output"
     ],
     "language": "python",
     "metadata": {},
     "outputs": [],
     "prompt_number": 5
    },
    {
     "cell_type": "code",
     "collapsed": false,
     "input": [
      "from IPython.html import widgets"
     ],
     "language": "python",
     "metadata": {},
     "outputs": [],
     "prompt_number": 6
    },
    {
     "cell_type": "code",
     "collapsed": false,
     "input": [
      "# what's in widgets\n",
      "\n",
      "dir(widgets)"
     ],
     "language": "python",
     "metadata": {},
     "outputs": [
      {
       "metadata": {},
       "output_type": "pyout",
       "prompt_number": 7,
       "text": [
        "['AccordionWidget',\n",
        " 'BoundedFloatTextWidget',\n",
        " 'BoundedIntTextWidget',\n",
        " 'ButtonWidget',\n",
        " 'CallbackDispatcher',\n",
        " 'CheckboxWidget',\n",
        " 'ContainerWidget',\n",
        " 'DOMWidget',\n",
        " 'DropdownWidget',\n",
        " 'FloatProgressWidget',\n",
        " 'FloatSliderWidget',\n",
        " 'FloatTextWidget',\n",
        " 'HTMLWidget',\n",
        " 'ImageWidget',\n",
        " 'IntProgressWidget',\n",
        " 'IntSliderWidget',\n",
        " 'IntTextWidget',\n",
        " 'LatexWidget',\n",
        " 'PopupWidget',\n",
        " 'RadioButtonsWidget',\n",
        " 'SelectWidget',\n",
        " 'TabWidget',\n",
        " 'TextWidget',\n",
        " 'TextareaWidget',\n",
        " 'ToggleButtonWidget',\n",
        " 'ToggleButtonsWidget',\n",
        " 'Widget',\n",
        " '__builtins__',\n",
        " '__doc__',\n",
        " '__file__',\n",
        " '__name__',\n",
        " '__package__',\n",
        " '__path__',\n",
        " 'fixed',\n",
        " 'interact',\n",
        " 'interaction',\n",
        " 'interactive',\n",
        " 'widget',\n",
        " 'widget_bool',\n",
        " 'widget_button',\n",
        " 'widget_container',\n",
        " 'widget_float',\n",
        " 'widget_image',\n",
        " 'widget_int',\n",
        " 'widget_selection',\n",
        " 'widget_selectioncontainer',\n",
        " 'widget_string']"
       ]
      }
     ],
     "prompt_number": 7
    },
    {
     "cell_type": "code",
     "collapsed": false,
     "input": [
      "import math\n",
      "\n",
      "def fac(x):\n",
      "    print math.factorial(x)\n",
      "    \n",
      "fac(10)"
     ],
     "language": "python",
     "metadata": {},
     "outputs": [
      {
       "output_type": "stream",
       "stream": "stdout",
       "text": [
        "3628800\n"
       ]
      }
     ],
     "prompt_number": 8
    },
    {
     "cell_type": "code",
     "collapsed": false,
     "input": [
      "# let's dispaly factorial of input x\n",
      "widgets.interact(fac,x=(0,1000,1))"
     ],
     "language": "python",
     "metadata": {},
     "outputs": [
      {
       "output_type": "stream",
       "stream": "stdout",
       "text": [
        "56878465411882525024019869106095810443711861483651573510414327553915228320989004061260555958946091088710623453508969559004059093321200238492719713563110330058714032972946730753868022316902240107823463759719680928160493952481819610819007374844441824697652051115339179081141100212631179271854890626131975300539844183321097520081102320544748815063511124295784925759777654006636479482711740126764956099108357637301664918401416624491645555527002584252416000000000000000000000000000000000000000000000000000000000000000\n"
       ]
      }
     ],
     "prompt_number": 9
    },
    {
     "cell_type": "code",
     "collapsed": false,
     "input": [
      "# how to set starting value of a widget?\n",
      "\n",
      "widgets.interact(fac,\n",
      "                 x=widgets.IntSliderWidget(min=0,max=1000,step=1,value=10))"
     ],
     "language": "python",
     "metadata": {},
     "outputs": [
      {
       "output_type": "stream",
       "stream": "stdout",
       "text": [
        "471472363599206132240694321176194377951192623045460204976904578317542573467421580346978030238114995699562728104819596262106947389303901748942909887857509625114880781313585012959529941660203611234871833992565791817698209861793313332044734813700096000000000000000000000000000000000000000\n"
       ]
      }
     ],
     "prompt_number": 10
    },
    {
     "cell_type": "code",
     "collapsed": false,
     "input": [
      "from jinja2 import Template\n",
      "import uuid\n",
      "\n",
      "def square(r,g,b,a):\n",
      "\n",
      "    html_template = \"\"\"\n",
      "    <style>\n",
      "\n",
      "    #{{div_id}} {\n",
      "        background-color: rgba({{r}},{{g}},{{b}},{{a}});\n",
      "        height:100px;\n",
      "        width:100px;\n",
      "    }\n",
      "\n",
      "    </style>\n",
      "\n",
      "    <div id=\"{{div_id}}\"/>\"\"\"\n",
      "    \n",
      "    div_id=\"i\" + str(uuid.uuid4())\n",
      "\n",
      "    html_src = Template(html_template).render(r=r, g=g, b=b, a=a, div_id=div_id)\n",
      "    display(HTML(html_src))\n",
      "        \n",
      "square(255,0,255,1)"
     ],
     "language": "python",
     "metadata": {},
     "outputs": [
      {
       "html": [
        "\n",
        "    <style>\n",
        "\n",
        "    #i910012d5-9f22-452d-8cd6-5d4cdc1601a0 {\n",
        "        background-color: rgba(255,0,255,1);\n",
        "        height:100px;\n",
        "        width:100px;\n",
        "    }\n",
        "\n",
        "    </style>\n",
        "\n",
        "    <div id=\"i910012d5-9f22-452d-8cd6-5d4cdc1601a0\"/>"
       ],
       "metadata": {},
       "output_type": "display_data",
       "text": [
        "<IPython.core.display.HTML at 0x105f453d0>"
       ]
      }
     ],
     "prompt_number": 11
    },
    {
     "cell_type": "code",
     "collapsed": false,
     "input": [
      "widgets.interact(square,\n",
      "                 r=widgets.IntSliderWidget(min=0,max=255,step=1,value=0),\n",
      "                 g=widgets.IntSliderWidget(min=0,max=255,step=1,value=0),\n",
      "                 b=widgets.IntSliderWidget(min=0,max=255,step=1,value=0),\n",
      "                 a=widgets.FloatSliderWidget(min=0,max=1,value=1)\n",
      "                )"
     ],
     "language": "python",
     "metadata": {},
     "outputs": [
      {
       "html": [
        "\n",
        "    <style>\n",
        "\n",
        "    #ie266e589-b120-480b-bb9e-a0fe56317f83 {\n",
        "        background-color: rgba(91,127,172,1.0);\n",
        "        height:100px;\n",
        "        width:100px;\n",
        "    }\n",
        "\n",
        "    </style>\n",
        "\n",
        "    <div id=\"ie266e589-b120-480b-bb9e-a0fe56317f83\"/>"
       ],
       "metadata": {},
       "output_type": "display_data",
       "text": [
        "<IPython.core.display.HTML at 0x105f45950>"
       ]
      }
     ],
     "prompt_number": 12
    },
    {
     "cell_type": "code",
     "collapsed": false,
     "input": [
      "#hsla\n",
      "# https://en.wikipedia.org/wiki/HSL_and_HSV\n",
      "\n",
      "import colorsys\n",
      "\n",
      "def square_hsla(h,s,l,a):\n",
      "\n",
      "    html_template = \"\"\"\n",
      "    <style>\n",
      "\n",
      "    #{{div_id}} {\n",
      "        background-color:hsla({{h}},{{s}}%,{{l}}%,{{a}});\n",
      "        height:100px;\n",
      "        width:100px;\n",
      "    }\n",
      "\n",
      "    </style>\n",
      "\n",
      "    <div id=\"{{div_id}}\"/>\"\"\"\n",
      "    \n",
      "    div_id=\"i\" + str(uuid.uuid4())\n",
      "\n",
      "    html_src = Template(html_template).render(h=h, s=s, l=l, a=a, div_id=div_id)\n",
      "    \n",
      "    (r,g,b) = colorsys.hls_to_rgb(float(h)/360.0,float(l)/100.0,float(s)/100.0)\n",
      "    print (int(r*255+0.5), int(g*255+0.5), int(b*255+0.5))\n",
      "    \n",
      "    display(HTML(html_src))\n",
      "    \n",
      "square_hsla(120,100,50,0.3)"
     ],
     "language": "python",
     "metadata": {},
     "outputs": [
      {
       "output_type": "stream",
       "stream": "stdout",
       "text": [
        "(0, 255, 0)\n"
       ]
      },
      {
       "html": [
        "\n",
        "    <style>\n",
        "\n",
        "    #i4f14e7c4-a6d5-4d74-b102-06158b207f6d {\n",
        "        background-color:hsla(120,100%,50%,0.3);\n",
        "        height:100px;\n",
        "        width:100px;\n",
        "    }\n",
        "\n",
        "    </style>\n",
        "\n",
        "    <div id=\"i4f14e7c4-a6d5-4d74-b102-06158b207f6d\"/>"
       ],
       "metadata": {},
       "output_type": "display_data",
       "text": [
        "<IPython.core.display.HTML at 0x105f95a50>"
       ]
      }
     ],
     "prompt_number": 13
    },
    {
     "cell_type": "code",
     "collapsed": false,
     "input": [
      "widgets.interact(square_hsla,\n",
      "                 h=widgets.FloatSliderWidget(min=0,max=360,value=120),\n",
      "                 s=widgets.FloatSliderWidget(min=0,max=100,value=100),\n",
      "                 l=widgets.FloatSliderWidget(min=0,max=100,value=50),\n",
      "                 a=widgets.FloatSliderWidget(min=0,max=1,value=0.3)\n",
      "                )"
     ],
     "language": "python",
     "metadata": {},
     "outputs": [
      {
       "output_type": "stream",
       "stream": "stdout",
       "text": [
        "(0, 255, 224)\n"
       ]
      },
      {
       "html": [
        "\n",
        "    <style>\n",
        "\n",
        "    #i65d9a000-a39d-424e-ad4d-d7d6a3dfc674 {\n",
        "        background-color:hsla(172.6,100.0%,50.0%,0.3);\n",
        "        height:100px;\n",
        "        width:100px;\n",
        "    }\n",
        "\n",
        "    </style>\n",
        "\n",
        "    <div id=\"i65d9a000-a39d-424e-ad4d-d7d6a3dfc674\"/>"
       ],
       "metadata": {},
       "output_type": "display_data",
       "text": [
        "<IPython.core.display.HTML at 0x105f934d0>"
       ]
      }
     ],
     "prompt_number": 14
    },
    {
     "cell_type": "heading",
     "level": 1,
     "metadata": {},
     "source": [
      "SVG example"
     ]
    },
    {
     "cell_type": "code",
     "collapsed": false,
     "input": [
      "%%html\n",
      "<svg height=\"100\">\n",
      "  <circle cx=\"50\" cy=\"50\" r=\"40\" stroke=\"black\" stroke-width=\"3\" fill=\"red\" />\n",
      "</svg>"
     ],
     "language": "python",
     "metadata": {},
     "outputs": [
      {
       "html": [
        "<svg height=\"100\">\n",
        "  <circle cx=\"50\" cy=\"50\" r=\"40\" stroke=\"black\" stroke-width=\"3\" fill=\"red\" />\n",
        "</svg>"
       ],
       "metadata": {},
       "output_type": "display_data",
       "text": [
        "<IPython.core.display.HTML at 0x105f93c50>"
       ]
      }
     ],
     "prompt_number": 15
    },
    {
     "cell_type": "code",
     "collapsed": false,
     "input": [
      "def circle(r=40):\n",
      "    \n",
      "    cx = int(1.25*r)\n",
      "    cy = cx\n",
      "    height = 2*cx\n",
      "    \n",
      "    html = \"\"\"<svg height=\"{height}\">\n",
      "  <circle cx=\"{cx}\" cy=\"{cy}\" r=\"{r}\" stroke=\"black\" stroke-width=\"3\" fill=\"red\" />\n",
      "</svg>\n",
      "\"\"\".format(height=height, cx=cx, cy=cy, r=r)\n",
      "    display(HTML(html))\n"
     ],
     "language": "python",
     "metadata": {},
     "outputs": [],
     "prompt_number": 17
    },
    {
     "cell_type": "code",
     "collapsed": false,
     "input": [
      "circle(r=200)"
     ],
     "language": "python",
     "metadata": {},
     "outputs": [
      {
       "html": [
        "<svg height=\"500\">\n",
        "  <circle cx=\"250\" cy=\"250\" r=\"200\" stroke=\"black\" stroke-width=\"3\" fill=\"red\" />\n",
        "</svg>\n"
       ],
       "metadata": {},
       "output_type": "display_data",
       "text": [
        "<IPython.core.display.HTML at 0x105f93410>"
       ]
      }
     ],
     "prompt_number": 18
    },
    {
     "cell_type": "code",
     "collapsed": false,
     "input": [
      "widgets.interact(circle, r=(0,500,5))"
     ],
     "language": "python",
     "metadata": {},
     "outputs": [
      {
       "html": [
        "<svg height=\"224\">\n",
        "  <circle cx=\"112\" cy=\"112\" r=\"90\" stroke=\"black\" stroke-width=\"3\" fill=\"red\" />\n",
        "</svg>\n"
       ],
       "metadata": {},
       "output_type": "display_data",
       "text": [
        "<IPython.core.display.HTML at 0x105ffb410>"
       ]
      }
     ],
     "prompt_number": 19
    },
    {
     "cell_type": "heading",
     "level": 1,
     "metadata": {},
     "source": [
      "Animating a float slider widget"
     ]
    },
    {
     "cell_type": "code",
     "collapsed": false,
     "input": [
      "w = widgets.FloatSliderWidget()\n",
      "w.min = 0\n",
      "w.max  = 200\n",
      "w.value = 30"
     ],
     "language": "python",
     "metadata": {},
     "outputs": [],
     "prompt_number": 37
    },
    {
     "cell_type": "code",
     "collapsed": false,
     "input": [
      "w"
     ],
     "language": "python",
     "metadata": {},
     "outputs": [],
     "prompt_number": 38
    },
    {
     "cell_type": "code",
     "collapsed": false,
     "input": [
      "w.value = 10"
     ],
     "language": "python",
     "metadata": {},
     "outputs": [],
     "prompt_number": 39
    },
    {
     "cell_type": "code",
     "collapsed": false,
     "input": [
      "import time\n",
      "\n",
      "for m in range(0,200,2):\n",
      "    w.value = m\n",
      "    time.sleep(0.1)"
     ],
     "language": "python",
     "metadata": {},
     "outputs": [],
     "prompt_number": 31
    },
    {
     "cell_type": "code",
     "collapsed": false,
     "input": [
      "w.keys"
     ],
     "language": "python",
     "metadata": {},
     "outputs": []
    },
    {
     "cell_type": "code",
     "collapsed": false,
     "input": [
      "w.close()"
     ],
     "language": "python",
     "metadata": {},
     "outputs": []
    },
    {
     "cell_type": "code",
     "collapsed": false,
     "input": [
      "m = widgets.interact(circle, r=(0,500,5))\n",
      "m"
     ],
     "language": "python",
     "metadata": {},
     "outputs": [
      {
       "html": [
        "<svg height=\"100\">\n",
        "  <circle cx=\"50\" cy=\"50\" r=\"40\" stroke=\"black\" stroke-width=\"3\" fill=\"red\" />\n",
        "</svg>\n"
       ],
       "metadata": {},
       "output_type": "display_data",
       "text": [
        "<IPython.core.display.HTML at 0x105ffbd90>"
       ]
      },
      {
       "metadata": {},
       "output_type": "pyout",
       "prompt_number": 40,
       "text": [
        "<function __main__.circle>"
       ]
      }
     ],
     "prompt_number": 40
    },
    {
     "cell_type": "heading",
     "level": 1,
     "metadata": {},
     "source": [
      "Expanding and shrinking circle"
     ]
    },
    {
     "cell_type": "code",
     "collapsed": false,
     "input": [
      "for r in range (0,500,5):\n",
      "    m.widget._children[0].value = r\n",
      "    time.sleep(0.1)\n",
      "    \n",
      "for r in range (500,0,-5):\n",
      "    m.widget._children[0].value = r\n",
      "    time.sleep(0.1)"
     ],
     "language": "python",
     "metadata": {},
     "outputs": [
      {
       "html": [
        "<svg height=\"12\">\n",
        "  <circle cx=\"6\" cy=\"6\" r=\"5\" stroke=\"black\" stroke-width=\"3\" fill=\"red\" />\n",
        "</svg>\n"
       ],
       "metadata": {},
       "output_type": "display_data",
       "text": [
        "<IPython.core.display.HTML at 0x106c5aad0>"
       ]
      }
     ],
     "prompt_number": 41
    },
    {
     "cell_type": "code",
     "collapsed": false,
     "input": [
      "m.widget._children[0].value = 50"
     ],
     "language": "python",
     "metadata": {},
     "outputs": [
      {
       "html": [
        "<svg height=\"124\">\n",
        "  <circle cx=\"62\" cy=\"62\" r=\"50\" stroke=\"black\" stroke-width=\"3\" fill=\"red\" />\n",
        "</svg>\n"
       ],
       "metadata": {},
       "output_type": "display_data",
       "text": [
        "<IPython.core.display.HTML at 0x105ffb610>"
       ]
      }
     ],
     "prompt_number": 36
    },
    {
     "cell_type": "heading",
     "level": 1,
     "metadata": {},
     "source": [
      "Text widget and Pig Latin"
     ]
    },
    {
     "cell_type": "code",
     "collapsed": false,
     "input": [
      "#http://stackoverflow.com/a/20304752/7782\n",
      "\n",
      "def pigLatin(aString):\n",
      "    index = 0\n",
      "    stringLength = len(aString)\n",
      "    consonants = ''\n",
      "\n",
      "    # if aString starts with a vowel then just add 'way' to the end\n",
      "    if isVowel(aString[index]): \n",
      "        return aString + 'way' \n",
      "    else:\n",
      "    # the first letter is added to the list of consonants\n",
      "        consonants += aString[index]\n",
      "        index += 1\n",
      "\n",
      "        # if the next character of aString is a vowel, then from the index \n",
      "        # of the vowel onwards + any consonants + 'ay' is returned\n",
      "        while index < stringLength:\n",
      "            if isVowel(aString[index]):\n",
      "                return aString[index:stringLength] + consonants + 'ay'\n",
      "            else:\n",
      "                consonants += aString[index]\n",
      "                index += 1\n",
      "        return 'This word does contain any vowels.'\n",
      "\n",
      "def isVowel(character):\n",
      "    vowels = 'aeiou'\n",
      "    return character in vowels\n",
      "\n",
      "def echoPL(s):\n",
      "    print pigLatin(s)\n",
      "\n",
      "widgets.interact(echoPL, s=\"hello\")\n"
     ],
     "language": "python",
     "metadata": {},
     "outputs": [
      {
       "output_type": "stream",
       "stream": "stdout",
       "text": [
        "inda tired.I'm kay\n"
       ]
      }
     ],
     "prompt_number": 28
    },
    {
     "cell_type": "code",
     "collapsed": false,
     "input": [],
     "language": "python",
     "metadata": {},
     "outputs": []
    }
   ],
   "metadata": {}
  }
 ]
}