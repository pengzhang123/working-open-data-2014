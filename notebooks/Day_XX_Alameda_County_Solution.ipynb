{
 "metadata": {
  "name": ""
 },
 "nbformat": 3,
 "nbformat_minor": 0,
 "worksheets": [
  {
   "cells": [
    {
     "cell_type": "markdown",
     "metadata": {},
     "source": [
      "The US Census is complex....so it's good, even essential, to have a framing question to guide your explorations so that you don't get distracted or lost.\n",
      "\n",
      "I got into thinking of the census in 2002 when I saw a woman I knew in the following SF Chronicle article: \n",
      "\n",
      "[Claremont-Elmwood / Homogeneity in Berkeley? Well, yeah - SFGate](http://www.sfgate.com/bayarea/article/Claremont-Elmwood-Homogeneity-in-Berkeley-3306778.php)\n",
      "\n",
      "I thought at that point it should be easy for regular people to do census calculations....\n",
      "\n",
      "In the summer of 2013, I wrote the following note to Greg Wilson about diversity calculations:\n",
      "\n",
      "[notes for Greg Wilson about an example Data Science Workflow](https://www.evernote.com/shard/s1/sh/b3f79cbc-c0c3-48a3-87b6-91da1b939783/1857ddee32d7baa04c55e629da05e0a7)\n",
      "\n",
      "There's a whole cottage industry in musing on \"diversity\" in the USA:\n",
      "\n",
      "* [The Most Diverse Cities In The US - Business Insider](http://www.businessinsider.com/the-most-diverse-cities-in-the-us-2013-7) -- using 4 categories:  Vallejo.\n",
      "\n",
      "* [Most And Least Diverse Cities: Brown University Study Evaluates Diversity In The U.S.](http://www.huffingtonpost.com/2012/09/07/most-least-diverse-cities-brown-university-study_n_1865715.html)\n",
      "\n",
      "* [The Top 10 Most Diverse Cities in America](http://www.cnbc.com/id/43066296) -- LA?\n",
      "\n",
      "and let's not forget the [Racial Dot Map](http://bit.ly/rdotmap) and [some background](http://bit.ly/rdotmapintro).\n"
     ]
    },
    {
     "cell_type": "code",
     "collapsed": false,
     "input": [
      "# grab census tracts from Alameda County\n",
      "\n",
      "import census\n",
      "import settings\n",
      "import us\n",
      "\n",
      "import numpy as np\n",
      "import matplotlib.pyplot as plt\n",
      "from pandas import DataFrame, Series, Index\n",
      "import pandas as pd\n",
      "\n",
      "from itertools import islice\n",
      "\n",
      "c=census.Census(settings.CENSUS_KEY)"
     ],
     "language": "python",
     "metadata": {},
     "outputs": [],
     "prompt_number": 1
    },
    {
     "cell_type": "code",
     "collapsed": false,
     "input": [
      "def census_labels(prefix='P005', n0=1, n1=17, field_width=4, include_name=True):\n",
      "    label_format = \"{i:0%dd}\" % (field_width)\n",
      "    \n",
      "    variables = [prefix + label_format.format(i=i) for i in xrange(n0,n1+1)]\n",
      "    if include_name:\n",
      "        variables = ['NAME'] + variables\n",
      "\n",
      "    return variables"
     ],
     "language": "python",
     "metadata": {},
     "outputs": [],
     "prompt_number": 2
    },
    {
     "cell_type": "code",
     "collapsed": false,
     "input": [
      "\n",
      "# for 2010\n",
      "def counties(variables='NAME'):\n",
      "    \"\"\"ask for all the states in one call\"\"\"\n",
      "    \n",
      "    # tabulate a set of fips codes for the states\n",
      "    states_fips = set([s.fips for s in us.states.STATES])\n",
      "    \n",
      "    geo={'for':'county:*',\n",
      "             'in':'state:*'}    \n",
      "    for county in c.sf1.get(variables, geo=geo):\n",
      "        # eliminate counties whose states aren't in a state or DC\n",
      "        if county['state'] in states_fips:\n",
      "            yield county"
     ],
     "language": "python",
     "metadata": {},
     "outputs": [],
     "prompt_number": 3
    },
    {
     "cell_type": "code",
     "collapsed": false,
     "input": [
      "# 2000 Census\n",
      "# http://api.census.gov/data/2000/sf1/geo.html\n",
      "\n",
      "# http://api.census.gov/data/2000/sf1?get=P001001&for=tract:020100&in=state:01+county:001\n",
      "\n",
      "# first counties in CA\n",
      "\n",
      "#http://api.census.gov/data/2000/sf1?get=P001001&for=county:*&in=state:45\n",
      "\n",
      "r = c.sf1.get('NAME', geo={'for':'county:*', \n",
      "                           'in':'state:{s_fips}'.format(s_fips=us.states.CA.fips)\n",
      "                           })\n"
     ],
     "language": "python",
     "metadata": {},
     "outputs": [],
     "prompt_number": 4
    },
    {
     "cell_type": "code",
     "collapsed": false,
     "input": [
      "ALAMEDA_COUNTY_FIPS_2000 = [county['county'] for county in r if county['NAME'] == 'Alameda County'][0]\n",
      "ALAMEDA_COUNTY_FIPS_2000"
     ],
     "language": "python",
     "metadata": {},
     "outputs": [
      {
       "metadata": {},
       "output_type": "pyout",
       "prompt_number": 5,
       "text": [
        "u'001'"
       ]
      }
     ],
     "prompt_number": 5
    },
    {
     "cell_type": "code",
     "collapsed": false,
     "input": [
      "# Let's use P0010001 to confirm that we can get the total population of the US and then\n",
      "# Alameda County\n",
      "\n",
      "# P0010001 in 2010 was P001001 in 2000\n",
      "\n",
      "\n",
      "# be careful: fips codes as int vs string\n",
      "# this won't work\n",
      "state_fips = set([int(state.fips) for state in us.states.STATES])\n",
      "\n",
      "r = c.sf1.get('NAME,P001001', geo={'for':'state:*'},year=2000)\n",
      "df = DataFrame([state for state in r if int(state['state']) in state_fips ])\n",
      "df.P001001 = df.P001001.astype('int')\n",
      "\n",
      "len(df), df.P001001.sum()"
     ],
     "language": "python",
     "metadata": {},
     "outputs": [
      {
       "metadata": {},
       "output_type": "pyout",
       "prompt_number": 6,
       "text": [
        "(51, 281421906)"
       ]
      }
     ],
     "prompt_number": 6
    },
    {
     "cell_type": "markdown",
     "metadata": {},
     "source": [
      "let's look at the relevant variables in the 2000 Census\n",
      "    https://www.census.gov/developers/data/2000_sf1.xml\n",
      "\n",
      "P005\\* from 2010 correspond to P008* variables from 2000?"
     ]
    },
    {
     "cell_type": "markdown",
     "metadata": {},
     "source": [
      "    <concept name=\"P8. Hispanic Or Latino By Race [17]\">\n",
      "        <variable name=\"P008001\" concept=\"P8. Hispanic Or Latino By Race [17]\">HISPANIC:TotalHispanic & NotHispanic</variable>\n",
      "        <variable name=\"P008002\" concept=\"P8. Hispanic Or Latino By Race [17]\">HISPANIC:Total NotHispanic or Latino</variable>\n",
      "        <variable name=\"P008003\" concept=\"P8. Hispanic Or Latino By Race [17]\">HISPANIC:NotHisp:White alone</variable>\n",
      "        <variable name=\"P008004\" concept=\"P8. Hispanic Or Latino By Race [17]\">HISPANIC:NotHisp:Bl/AfAm alone</variable>\n",
      "        <variable name=\"P008005\" concept=\"P8. Hispanic Or Latino By Race [17]\">HISPANIC:NotHisp:AmInd/AK alone</variable>\n",
      "        <variable name=\"P008006\" concept=\"P8. Hispanic Or Latino By Race [17]\">HISPANIC:NotHisp:Asian alone</variable>\n",
      "        <variable name=\"P008007\" concept=\"P8. Hispanic Or Latino By Race [17]\">HISPANIC:NotHisp:HI alone</variable>\n",
      "        <variable name=\"P008008\" concept=\"P8. Hispanic Or Latino By Race [17]\">HISPANIC:NotHisp:Other alone</variable>\n",
      "        <variable name=\"P008009\" concept=\"P8. Hispanic Or Latino By Race [17]\">HISPANIC:NotHisp:Two+races</variable>\n",
      "        <variable name=\"P008010\" concept=\"P8. Hispanic Or Latino By Race [17]\">HISPANIC:Total Hispanic or Latino</variable>\n",
      "        <variable name=\"P008011\" concept=\"P8. Hispanic Or Latino By Race [17]\">HISPANIC:Hisp:White alone</variable>\n",
      "        <variable name=\"P008012\" concept=\"P8. Hispanic Or Latino By Race [17]\">HISPANIC:Hisp:Bl/AfAm alone</variable>\n",
      "        <variable name=\"P008013\" concept=\"P8. Hispanic Or Latino By Race [17]\">HISPANIC:Hisp:AmInd/AK alone</variable>\n",
      "        <variable name=\"P008014\" concept=\"P8. Hispanic Or Latino By Race [17]\">HISPANIC:Hisp:Asian alone</variable>\n",
      "        <variable name=\"P008015\" concept=\"P8. Hispanic Or Latino By Race [17]\">HISPANIC:Hisp:HI alone</variable>\n",
      "        <variable name=\"P008016\" concept=\"P8. Hispanic Or Latino By Race [17]\">HISPANIC:Hisp:Other alone</variable>\n",
      "        <variable name=\"P008017\" concept=\"P8. Hispanic Or Latino By Race [17]\">HISPANIC:Hisp:Two+ races</variable>\n",
      "    </concept>"
     ]
    },
    {
     "cell_type": "code",
     "collapsed": false,
     "input": [
      "state_fips = set([int(state.fips) for state in us.states.STATES])\n",
      "\n",
      "r = c.sf1.get('NAME,P008001', geo={'for':'state:*'},year=2000)\n",
      "df = DataFrame([state for state in r if int(state['state']) in state_fips ])\n",
      "df.P008001 = df.P008001.astype('int')\n",
      "\n",
      "CA_POP_2000 = int(df[df.NAME=='California'].P008001)\n",
      "\n",
      "len(df), df.P008001.sum(), CA_POP_2000"
     ],
     "language": "python",
     "metadata": {},
     "outputs": [
      {
       "metadata": {},
       "output_type": "pyout",
       "prompt_number": 7,
       "text": [
        "(51, 281421906, 33871648)"
       ]
      }
     ],
     "prompt_number": 7
    },
    {
     "cell_type": "code",
     "collapsed": false,
     "input": [
      "# now let's do the counties for CA to establish the population \n",
      "\n",
      "r = c.sf1.get('NAME,P008001', \n",
      "              geo={'for':'county:*', \n",
      "                    'in':'state:{s_fips}'.format(s_fips=us.states.CA.fips)},\n",
      "             year=2000)\n",
      "\n",
      "sum([int(county['P008001']) for county in r]) == CA_POP_2000"
     ],
     "language": "python",
     "metadata": {},
     "outputs": [
      {
       "metadata": {},
       "output_type": "pyout",
       "prompt_number": 8,
       "text": [
        "True"
       ]
      }
     ],
     "prompt_number": 8
    },
    {
     "cell_type": "code",
     "collapsed": false,
     "input": [
      "int(ALAMEDA_COUNTY_FIPS_2000)"
     ],
     "language": "python",
     "metadata": {},
     "outputs": [
      {
       "metadata": {},
       "output_type": "pyout",
       "prompt_number": 9,
       "text": [
        "1"
       ]
      }
     ],
     "prompt_number": 9
    },
    {
     "cell_type": "code",
     "collapsed": false,
     "input": [
      "[(int(county['P008001']), county['county']) for county in r if int(county['county']) == int(ALAMEDA_COUNTY_FIPS_2000)]"
     ],
     "language": "python",
     "metadata": {},
     "outputs": [
      {
       "metadata": {},
       "output_type": "pyout",
       "prompt_number": 10,
       "text": [
        "[(1443741, u'1')]"
       ]
      }
     ],
     "prompt_number": 10
    },
    {
     "cell_type": "code",
     "collapsed": false,
     "input": [
      "# if int(county['county']) == int(ALAMEDA_COUNTY_FIPS_2000)\n",
      "\n",
      "ALAMEDA_CO_POP_2000 = [int(county['P008001']) for county in r if int(county['county']) == int(ALAMEDA_COUNTY_FIPS_2000)][0]\n",
      "ALAMEDA_CO_POP_2000"
     ],
     "language": "python",
     "metadata": {},
     "outputs": [
      {
       "metadata": {},
       "output_type": "pyout",
       "prompt_number": 11,
       "text": [
        "1443741"
       ]
      }
     ],
     "prompt_number": 11
    },
    {
     "cell_type": "code",
     "collapsed": false,
     "input": [
      "# now ready to get all census tracts in Alameda County in 2000"
     ],
     "language": "python",
     "metadata": {},
     "outputs": [],
     "prompt_number": 12
    },
    {
     "cell_type": "markdown",
     "metadata": {},
     "source": [
      "<img src=\"http://ww2.hdnux.com/photos/11/32/50/2468373/5/628x471.jpg\"/>"
     ]
    },
    {
     "cell_type": "markdown",
     "metadata": {},
     "source": [
      "Let's see whether we can solve the mystery of tract 4238"
     ]
    },
    {
     "cell_type": "code",
     "collapsed": false,
     "input": [
      "# http://api.census.gov/data/2000/sf1?get=P001001&for=tract:020100&in=state:01+county:001\n",
      "\n",
      "# had to tack on '00' to end\n",
      "CLAREMONT_ELMWOOD_TRACK_ID_2000 = '423800'\n",
      "\n",
      "r = c.sf1.get('NAME,P008001', \n",
      "              geo={'for':'tract:{t_id}'.format(t_id=CLAREMONT_ELMWOOD_TRACK_ID_2000), \n",
      "                    'in':'state:{s_fips} county:{c_fips}'.format(s_fips=us.states.CA.fips,\n",
      "                                                c_fips=ALAMEDA_COUNTY_FIPS_2000)},\n",
      "             year=2000)"
     ],
     "language": "python",
     "metadata": {},
     "outputs": [],
     "prompt_number": 13
    },
    {
     "cell_type": "code",
     "collapsed": false,
     "input": [
      "r"
     ],
     "language": "python",
     "metadata": {},
     "outputs": [
      {
       "metadata": {},
       "output_type": "pyout",
       "prompt_number": 14,
       "text": [
        "[{u'NAME': u'Census Tract 4238',\n",
        "  u'P008001': u'3120',\n",
        "  u'county': u'1',\n",
        "  u'state': u'6',\n",
        "  u'tract': u'423800'}]"
       ]
      }
     ],
     "prompt_number": 14
    },
    {
     "cell_type": "code",
     "collapsed": false,
     "input": [
      "CLAREMONT_ELMWOOD_TRACK_ID_2000 = '423800'\n",
      "\n",
      "r = c.sf1.get(census_labels('P008',1,17,3,True), \n",
      "              geo={'for':'tract:{t_id}'.format(t_id=CLAREMONT_ELMWOOD_TRACK_ID_2000), \n",
      "                    'in':'state:{s_fips} county:{c_fips}'.format(s_fips=us.states.CA.fips,\n",
      "                                                c_fips=ALAMEDA_COUNTY_FIPS_2000)},\n",
      "             year=2000)"
     ],
     "language": "python",
     "metadata": {},
     "outputs": [],
     "prompt_number": 15
    },
    {
     "cell_type": "code",
     "collapsed": false,
     "input": [
      "r"
     ],
     "language": "python",
     "metadata": {},
     "outputs": [
      {
       "metadata": {},
       "output_type": "pyout",
       "prompt_number": 16,
       "text": [
        "[{u'NAME': u'Census Tract 4238',\n",
        "  u'P008001': u'3120',\n",
        "  u'P008002': u'3025',\n",
        "  u'P008003': u'2691',\n",
        "  u'P008004': u'57',\n",
        "  u'P008005': u'8',\n",
        "  u'P008006': u'166',\n",
        "  u'P008007': u'1',\n",
        "  u'P008008': u'19',\n",
        "  u'P008009': u'83',\n",
        "  u'P008010': u'95',\n",
        "  u'P008011': u'75',\n",
        "  u'P008012': u'1',\n",
        "  u'P008013': u'1',\n",
        "  u'P008014': u'1',\n",
        "  u'P008015': u'0',\n",
        "  u'P008016': u'9',\n",
        "  u'P008017': u'8',\n",
        "  u'county': u'1',\n",
        "  u'state': u'6',\n",
        "  u'tract': u'423800'}]"
       ]
      }
     ],
     "prompt_number": 16
    },
    {
     "cell_type": "code",
     "collapsed": false,
     "input": [
      "df = DataFrame(r)\n",
      "df[census_labels('P008',1,17,3,False)] = df[census_labels('P008',1,17,3,False)].astype('int')\n",
      "df.head()"
     ],
     "language": "python",
     "metadata": {},
     "outputs": [
      {
       "html": [
        "<pre>\n",
        "&lt;class 'pandas.core.frame.DataFrame'&gt;\n",
        "Int64Index: 1 entries, 0 to 0\n",
        "Data columns (total 21 columns):\n",
        "NAME       1  non-null values\n",
        "P008001    1  non-null values\n",
        "P008002    1  non-null values\n",
        "P008003    1  non-null values\n",
        "P008004    1  non-null values\n",
        "P008005    1  non-null values\n",
        "P008006    1  non-null values\n",
        "P008007    1  non-null values\n",
        "P008008    1  non-null values\n",
        "P008009    1  non-null values\n",
        "P008010    1  non-null values\n",
        "P008011    1  non-null values\n",
        "P008012    1  non-null values\n",
        "P008013    1  non-null values\n",
        "P008014    1  non-null values\n",
        "P008015    1  non-null values\n",
        "P008016    1  non-null values\n",
        "P008017    1  non-null values\n",
        "county     1  non-null values\n",
        "state      1  non-null values\n",
        "tract      1  non-null values\n",
        "dtypes: int64(17), object(4)\n",
        "</pre>"
       ],
       "metadata": {},
       "output_type": "pyout",
       "prompt_number": 17,
       "text": [
        "<class 'pandas.core.frame.DataFrame'>\n",
        "Int64Index: 1 entries, 0 to 0\n",
        "Data columns (total 21 columns):\n",
        "NAME       1  non-null values\n",
        "P008001    1  non-null values\n",
        "P008002    1  non-null values\n",
        "P008003    1  non-null values\n",
        "P008004    1  non-null values\n",
        "P008005    1  non-null values\n",
        "P008006    1  non-null values\n",
        "P008007    1  non-null values\n",
        "P008008    1  non-null values\n",
        "P008009    1  non-null values\n",
        "P008010    1  non-null values\n",
        "P008011    1  non-null values\n",
        "P008012    1  non-null values\n",
        "P008013    1  non-null values\n",
        "P008014    1  non-null values\n",
        "P008015    1  non-null values\n",
        "P008016    1  non-null values\n",
        "P008017    1  non-null values\n",
        "county     1  non-null values\n",
        "state      1  non-null values\n",
        "tract      1  non-null values\n",
        "dtypes: int64(17), object(4)"
       ]
      }
     ],
     "prompt_number": 17
    },
    {
     "cell_type": "code",
     "collapsed": false,
     "input": [
      "df.P008002+df.P008010"
     ],
     "language": "python",
     "metadata": {},
     "outputs": [
      {
       "metadata": {},
       "output_type": "pyout",
       "prompt_number": 18,
       "text": [
        "0    3120\n",
        "dtype: int64"
       ]
      }
     ],
     "prompt_number": 18
    },
    {
     "cell_type": "markdown",
     "metadata": {},
     "source": [
      "    <concept name=\"P7. Race [8]\">\n",
      "        <variable name=\"P007001\" concept=\"P7. Race [8]\">RACE:Total</variable>\n",
      "        <variable name=\"P007002\" concept=\"P7. Race [8]\">RACE:White alone</variable>\n",
      "        <variable name=\"P007003\" concept=\"P7. Race [8]\">RACE:Bl/AfAm alone</variable>\n",
      "        <variable name=\"P007004\" concept=\"P7. Race [8]\">RACE:AmInd/AK alone</variable>\n",
      "        <variable name=\"P007005\" concept=\"P7. Race [8]\">RACE:Asian alone</variable>\n",
      "        <variable name=\"P007006\" concept=\"P7. Race [8]\">RACE:HI alone</variable>\n",
      "        <variable name=\"P007007\" concept=\"P7. Race [8]\">RACE:Other alone</variable>\n",
      "        <variable name=\"P007008\" concept=\"P7. Race [8]\">RACE:Two+races</variable>\n",
      "    </concept>"
     ]
    },
    {
     "cell_type": "code",
     "collapsed": false,
     "input": [
      "# Cut to the chase!\n",
      "\n",
      "r = c.sf1.get(census_labels('P008',1,17,3,True), \n",
      "              geo={'for':'tract:*', \n",
      "                    'in':'state:{s_fips} county:{c_fips}'.format(s_fips=us.states.CA.fips,\n",
      "                                                c_fips=ALAMEDA_COUNTY_FIPS_2000)},\n",
      "             year=2000)"
     ],
     "language": "python",
     "metadata": {},
     "outputs": [],
     "prompt_number": 19
    },
    {
     "cell_type": "code",
     "collapsed": false,
     "input": [
      "df = DataFrame(r)\n",
      "df[census_labels('P008',1,17,3,False)] = df[census_labels('P008',1,17,3,False)].astype('int')"
     ],
     "language": "python",
     "metadata": {},
     "outputs": [],
     "prompt_number": 20
    },
    {
     "cell_type": "code",
     "collapsed": false,
     "input": [
      "df['p_white'] = df.P008003.astype('float') / df.P008001"
     ],
     "language": "python",
     "metadata": {},
     "outputs": [],
     "prompt_number": 21
    },
    {
     "cell_type": "code",
     "collapsed": false,
     "input": [
      "k = df[['NAME','P008001','P008003','p_white']]\n",
      "k"
     ],
     "language": "python",
     "metadata": {},
     "outputs": [
      {
       "html": [
        "<pre>\n",
        "&lt;class 'pandas.core.frame.DataFrame'&gt;\n",
        "Int64Index: 321 entries, 0 to 320\n",
        "Data columns (total 4 columns):\n",
        "NAME       321  non-null values\n",
        "P008001    321  non-null values\n",
        "P008003    321  non-null values\n",
        "p_white    321  non-null values\n",
        "dtypes: float64(1), int64(2), object(1)\n",
        "</pre>"
       ],
       "metadata": {},
       "output_type": "pyout",
       "prompt_number": 22,
       "text": [
        "<class 'pandas.core.frame.DataFrame'>\n",
        "Int64Index: 321 entries, 0 to 320\n",
        "Data columns (total 4 columns):\n",
        "NAME       321  non-null values\n",
        "P008001    321  non-null values\n",
        "P008003    321  non-null values\n",
        "p_white    321  non-null values\n",
        "dtypes: float64(1), int64(2), object(1)"
       ]
      }
     ],
     "prompt_number": 22
    },
    {
     "cell_type": "code",
     "collapsed": false,
     "input": [
      "k.sort_index(by='p_white',ascending=False).head()"
     ],
     "language": "python",
     "metadata": {},
     "outputs": [
      {
       "html": [
        "<div style=\"max-height:1000px;max-width:1500px;overflow:auto;\">\n",
        "<table border=\"1\" class=\"dataframe\">\n",
        "  <thead>\n",
        "    <tr style=\"text-align: right;\">\n",
        "      <th></th>\n",
        "      <th>NAME</th>\n",
        "      <th>P008001</th>\n",
        "      <th>P008003</th>\n",
        "      <th>p_white</th>\n",
        "    </tr>\n",
        "  </thead>\n",
        "  <tbody>\n",
        "    <tr>\n",
        "      <th>140</th>\n",
        "      <td>    Census Tract 4238</td>\n",
        "      <td> 3120</td>\n",
        "      <td> 2691</td>\n",
        "      <td> 0.862500</td>\n",
        "    </tr>\n",
        "    <tr>\n",
        "      <th>298</th>\n",
        "      <td> Census Tract 4506.05</td>\n",
        "      <td> 3677</td>\n",
        "      <td> 3170</td>\n",
        "      <td> 0.862116</td>\n",
        "    </tr>\n",
        "    <tr>\n",
        "      <th>308</th>\n",
        "      <td> Census Tract 4511.02</td>\n",
        "      <td> 2356</td>\n",
        "      <td> 1998</td>\n",
        "      <td> 0.848048</td>\n",
        "    </tr>\n",
        "    <tr>\n",
        "      <th>116</th>\n",
        "      <td>    Census Tract 4215</td>\n",
        "      <td> 3721</td>\n",
        "      <td> 3126</td>\n",
        "      <td> 0.840097</td>\n",
        "    </tr>\n",
        "    <tr>\n",
        "      <th>317</th>\n",
        "      <td> Census Tract 4516.01</td>\n",
        "      <td> 3614</td>\n",
        "      <td> 3005</td>\n",
        "      <td> 0.831489</td>\n",
        "    </tr>\n",
        "  </tbody>\n",
        "</table>\n",
        "</div>"
       ],
       "metadata": {},
       "output_type": "pyout",
       "prompt_number": 23,
       "text": [
        "                     NAME  P008001  P008003   p_white\n",
        "140     Census Tract 4238     3120     2691  0.862500\n",
        "298  Census Tract 4506.05     3677     3170  0.862116\n",
        "308  Census Tract 4511.02     2356     1998  0.848048\n",
        "116     Census Tract 4215     3721     3126  0.840097\n",
        "317  Census Tract 4516.01     3614     3005  0.831489"
       ]
      }
     ],
     "prompt_number": 23
    },
    {
     "cell_type": "code",
     "collapsed": false,
     "input": [
      "p_white = k.p_white.copy()\n",
      "p_white"
     ],
     "language": "python",
     "metadata": {},
     "outputs": [
      {
       "metadata": {},
       "output_type": "pyout",
       "prompt_number": 24,
       "text": [
        "0     0.775420\n",
        "1     0.790052\n",
        "2     0.671792\n",
        "3     0.644165\n",
        "4     0.371848\n",
        "5     0.231986\n",
        "6     0.168951\n",
        "7     0.209323\n",
        "8     0.203176\n",
        "9     0.091960\n",
        "10    0.369354\n",
        "11    0.535773\n",
        "12    0.241281\n",
        "13    0.053095\n",
        "14    0.109822\n",
        "...\n",
        "306    0.805738\n",
        "307    0.757858\n",
        "308    0.848048\n",
        "309    0.739031\n",
        "310    0.736857\n",
        "311    0.774433\n",
        "312    0.742725\n",
        "313    0.573927\n",
        "314    0.752079\n",
        "315    0.763391\n",
        "316    0.749433\n",
        "317    0.831489\n",
        "318    0.757326\n",
        "319    0.797398\n",
        "320    0.814129\n",
        "Name: p_white, Length: 321, dtype: float64"
       ]
      }
     ],
     "prompt_number": 24
    },
    {
     "cell_type": "code",
     "collapsed": false,
     "input": [
      "p_white.sort(ascending=False)"
     ],
     "language": "python",
     "metadata": {},
     "outputs": [],
     "prompt_number": 25
    },
    {
     "cell_type": "code",
     "collapsed": false,
     "input": [
      "%pylab --no-import-all inline"
     ],
     "language": "python",
     "metadata": {},
     "outputs": [
      {
       "output_type": "stream",
       "stream": "stdout",
       "text": [
        "Populating the interactive namespace from numpy and matplotlib\n"
       ]
      }
     ],
     "prompt_number": 26
    },
    {
     "cell_type": "code",
     "collapsed": false,
     "input": [
      "plt.plot(np.arange(len(p_white)), p_white, 'ro',ms=1)"
     ],
     "language": "python",
     "metadata": {},
     "outputs": [
      {
       "metadata": {},
       "output_type": "pyout",
       "prompt_number": 27,
       "text": [
        "[<matplotlib.lines.Line2D at 0x1073b6810>]"
       ]
      },
      {
       "metadata": {},
       "output_type": "display_data",
       "png": "[encoded data removed]",
       "text": [
        "<matplotlib.figure.Figure at 0x1073964d0>"
       ]
      }
     ],
     "prompt_number": 27
    },
    {
     "cell_type": "code",
     "collapsed": false,
     "input": [],
     "language": "python",
     "metadata": {},
     "outputs": [],
     "prompt_number": 27
    }
   ],
   "metadata": {}
  }
 ]
}