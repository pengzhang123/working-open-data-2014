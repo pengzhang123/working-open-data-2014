{
 "metadata": {
  "name": "",
  "signature": "sha256:9c7c1d4b9bb69b2b63ea1eff714bbb0bd6a45e2c94e5c974d62463dfb82c1450"
 },
 "nbformat": 3,
 "nbformat_minor": 0,
 "worksheets": [
  {
   "cells": [
    {
     "cell_type": "code",
     "collapsed": false,
     "input": [
      "try:\n",
      "    import settings\n",
      "    assert type(settings.CENSUS_KEY) == str or type(settings.CENSUS_KEY) == unicode\n",
      "except Exception as e:\n",
      "    print \"error in importing settings to get at settings.CENSUS_KEY\", e"
     ],
     "language": "python",
     "metadata": {},
     "outputs": []
    },
    {
     "cell_type": "code",
     "collapsed": false,
     "input": [
      "from census import Census\n",
      "from us import states\n",
      "\n",
      "c = Census(settings.CENSUS_KEY)"
     ],
     "language": "python",
     "metadata": {},
     "outputs": []
    },
    {
     "cell_type": "markdown",
     "metadata": {},
     "source": [
      "Does the `census` module need to be updated to accomodate [Census Bureau's API Updated with 2013 ACS (1-yr) and New Features](http://www.census.gov/data/developers/updates/2013-ACS-1-yr-plus-new-features.html)?  Maybe.  I may need to formulate URL by hand."
     ]
    },
    {
     "cell_type": "markdown",
     "metadata": {},
     "source": [
      "[American Community Survey 1 Year Data](http://www.census.gov/data/developers/data-sets/acs-survey-1-year-data.html) --> latest, greatest:\n",
      "\n",
      "for 2012, sample call:\n",
      "\n",
      "http://api.census.gov/data/2012/acs1/profile?get=DP02_0001PE&for=state:*&key=..."
     ]
    },
    {
     "cell_type": "code",
     "collapsed": false,
     "input": [
      "# 2012 ACS-1year sample call\n",
      "url = \"http://api.census.gov/data/2012/acs1/profile?get=DP02_0001PE&for=state:*&key={key}\".format(key=settings.CENSUS_KEY)\n",
      "\n",
      "import requests\n",
      "\n",
      "r = requests.get(url)\n",
      "r.content"
     ],
     "language": "python",
     "metadata": {},
     "outputs": []
    },
    {
     "cell_type": "code",
     "collapsed": false,
     "input": [
      "# http://api.census.gov/data/2013/acs1/profile/variables/DP02_0001PE.json exists\n",
      "\n",
      "requests.get(\"http://api.census.gov/data/2013/acs1/profile/variables/DP02_0001PE.json\").json()"
     ],
     "language": "python",
     "metadata": {},
     "outputs": []
    },
    {
     "cell_type": "code",
     "collapsed": false,
     "input": [
      "# 2013 ACS-1year sample call\n",
      "\n",
      "url = \"http://api.census.gov/data/2013/acs1/profile?get=DP02_0001PE&for=state:*&key={key}\".format(key=settings.CENSUS_KEY)\n",
      "\n",
      "import requests\n",
      "\n",
      "r = requests.get(url)\n",
      "r.content\n"
     ],
     "language": "python",
     "metadata": {},
     "outputs": []
    },
    {
     "cell_type": "code",
     "collapsed": false,
     "input": [
      "# trying to get total population for 2013-1year\n",
      "\n",
      "# http://censusreporter.org/data/table/?table=B01003&geo_ids=04000US06&primary_geo_id=04000US06\n",
      "# reports 38,332,521 +/- 0\n",
      "\n",
      "requests.get(\"http://api.census.gov/data/2013/acs1/variables/B01003_001E.json\").json()\n"
     ],
     "language": "python",
     "metadata": {},
     "outputs": []
    },
    {
     "cell_type": "code",
     "collapsed": false,
     "input": [
      "url = \"http://api.census.gov/data/2013/acs1/profile?get=B01003_001E&for=state:*&key={key}\".format(key=settings.CENSUS_KEY)\n",
      "r = requests.get(url)\n",
      "r.content"
     ],
     "language": "python",
     "metadata": {},
     "outputs": []
    },
    {
     "cell_type": "code",
     "collapsed": false,
     "input": [
      "# how about from the following tutorial:\n",
      "# http://www.digital-geography.com/many-people-live-area/#.VDrwINTF8ds\n",
      "\n",
      "Census(settings.CENSUS_KEY, year=2012).acs.get([\"B01003_001E\"],{'for':'state:*'})"
     ],
     "language": "python",
     "metadata": {},
     "outputs": []
    },
    {
     "cell_type": "code",
     "collapsed": false,
     "input": [
      "import json\n",
      "fp = open(\"/Users/raymondyee/Downloads/variables_acs1_2013.json\")\n",
      "variables_acs1_2013 = json.load(fp)"
     ],
     "language": "python",
     "metadata": {},
     "outputs": []
    },
    {
     "cell_type": "code",
     "collapsed": false,
     "input": [
      "len(variables_acs1_2013['variables'].keys())"
     ],
     "language": "python",
     "metadata": {},
     "outputs": []
    },
    {
     "cell_type": "code",
     "collapsed": false,
     "input": [
      "'B01003_001E' in variables_acs1_2013['variables'].keys()"
     ],
     "language": "python",
     "metadata": {},
     "outputs": []
    },
    {
     "cell_type": "code",
     "collapsed": false,
     "input": [
      "variables_acs1_2013 = json.load"
     ],
     "language": "python",
     "metadata": {},
     "outputs": []
    },
    {
     "cell_type": "code",
     "collapsed": false,
     "input": [
      "# trying to get the 1-year total population for 2012 --> en route to the 2013 1-year\n",
      "\n",
      "c.acs1dp.get('DP05_0004E', {'for': 'state:*'})"
     ],
     "language": "python",
     "metadata": {},
     "outputs": []
    },
    {
     "cell_type": "code",
     "collapsed": false,
     "input": [
      "c.acs.get('B01001_004E', {'for': 'state:*'})"
     ],
     "language": "python",
     "metadata": {},
     "outputs": []
    },
    {
     "cell_type": "code",
     "collapsed": false,
     "input": [
      "# age and sex\n",
      "# http://censusreporter.org/data/table/?table=B01001&geo_ids=16000US0606000&primary_geo_id=16000US0606000"
     ],
     "language": "python",
     "metadata": {},
     "outputs": []
    },
    {
     "cell_type": "code",
     "collapsed": false,
     "input": [
      "requests.get(\"http://api.census.gov/data/2013/acs1/variables/B01001_001E.json\").json()"
     ],
     "language": "python",
     "metadata": {},
     "outputs": []
    },
    {
     "cell_type": "code",
     "collapsed": false,
     "input": [
      "url = \"http://api.census.gov/data/2013/acs1/profile?get=B01001_001E&for=state:*&key={key}\".format(key=settings.CENSUS_KEY)\n",
      "\n",
      "\n",
      "r = requests.get(url)\n",
      "r.content"
     ],
     "language": "python",
     "metadata": {},
     "outputs": []
    },
    {
     "cell_type": "markdown",
     "metadata": {},
     "source": [
      "I was looking at the wrong place!!\n",
      "\n",
      "\n",
      "Summary File:\n",
      "API Call: http://api.census.gov/data/2013/acs1?\n",
      "2013 ACS Summary File Variables [ html | xml | json ]\n",
      "ACS Technical Documentation\n",
      "\n",
      "\n",
      "Data Profile:\n",
      "Example Call: http://api.census.gov/data/2013/acs1/profile?get=DP02_0001PE&for=state:*&key=...\n",
      "2013 ACS Data Profile Variables [ html | xml | json ]\n",
      "ACS Technical Documentation"
     ]
    },
    {
     "cell_type": "code",
     "collapsed": false,
     "input": [
      "requests.get(\"http://api.census.gov/data/2013/acs1/profile/variables/DP05_0028E.json\").json()"
     ],
     "language": "python",
     "metadata": {},
     "outputs": []
    },
    {
     "cell_type": "code",
     "collapsed": false,
     "input": [
      "url = \"http://api.census.gov/data/2013/acs1/profile?get=DP05_0028E&for=state:*&key={key}\".format(key=settings.CENSUS_KEY)\n",
      "r = requests.get(url)\n",
      "r.json()"
     ],
     "language": "python",
     "metadata": {},
     "outputs": []
    },
    {
     "cell_type": "code",
     "collapsed": false,
     "input": [
      "c.acs1dp.get('DP05_0028E', {'for': 'state:*'}, year=2013)"
     ],
     "language": "python",
     "metadata": {},
     "outputs": []
    },
    {
     "cell_type": "code",
     "collapsed": false,
     "input": [
      "# how to get the total population of Berkeley, CA\n",
      "# let's do Alameda County first\n",
      "\n",
      "requests.get(\"http://api.census.gov/data/2013/acs1/profile?get=DP05_0028E,NAME&for=county:001&in=state:06\").json()"
     ],
     "language": "python",
     "metadata": {},
     "outputs": []
    },
    {
     "cell_type": "code",
     "collapsed": false,
     "input": [
      "requests.get(\"http://api.census.gov/data/2013/acs1/profile?get=DP05_0028E,NAME&for=place:06000&in=state:06\").json()"
     ],
     "language": "python",
     "metadata": {},
     "outputs": []
    },
    {
     "cell_type": "code",
     "collapsed": false,
     "input": [
      "# age\n",
      "# http://censusreporter.org/profiles/16000US0606000-berkeley-ca/#age\n",
      "\n",
      "requests.get(\"http://api.census.gov/data/2013/acs1/profile/variables/DP05_0004E.json\").json()"
     ],
     "language": "python",
     "metadata": {},
     "outputs": []
    },
    {
     "cell_type": "code",
     "collapsed": false,
     "input": [
      "r = requests.get(\"http://api.census.gov/data/2013/acs1/profile?get=DP05_0028E,DP05_0004E,DP05_0005E,NAME&for=place:06000&in=state:06\").json()\n",
      "r"
     ],
     "language": "python",
     "metadata": {},
     "outputs": []
    },
    {
     "cell_type": "code",
     "collapsed": false,
     "input": [
      "from itertools import izip\n",
      "d = dict(izip(r[0],r[1]))\n",
      "d"
     ],
     "language": "python",
     "metadata": {},
     "outputs": []
    },
    {
     "cell_type": "code",
     "collapsed": false,
     "input": [
      "# number of population 0->9\n",
      "\n",
      "int(d[u'DP05_0004E']) + int(d[u'DP05_0004E'])"
     ],
     "language": "python",
     "metadata": {},
     "outputs": []
    },
    {
     "cell_type": "code",
     "collapsed": false,
     "input": [],
     "language": "python",
     "metadata": {},
     "outputs": []
    }
   ],
   "metadata": {}
  }
 ]
}